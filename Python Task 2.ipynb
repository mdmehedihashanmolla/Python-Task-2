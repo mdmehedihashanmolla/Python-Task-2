{
 "cells": [
  {
   "cell_type": "markdown",
   "id": "5b434577-38a5-45de-bcef-62508199ac49",
   "metadata": {},
   "source": [
    "### Q1. You are writing code for a company. The requirement of the company is that you create a python function that will check whether the password entered by the user is correct or not. The function should take the password as input and return the string “Valid Password” if the entered password follows the below-given password guidelines else it should return “Invalid Password”.\n",
    "Note: \n",
    "### 1. The Password should contain at least two uppercase letters and at least two lowercase letters.\n",
    "### 2. The Password should contain at least a number and three special characters.\n",
    "### 3. The length of the password should be 10 characters long."
   ]
  },
  {
   "cell_type": "code",
   "execution_count": 4,
   "id": "40d34fda-3196-43e5-bf2c-04c6f6d324a6",
   "metadata": {},
   "outputs": [
    {
     "name": "stdin",
     "output_type": "stream",
     "text": [
      "Enter Your Password MDme5@#$ha\n"
     ]
    },
    {
     "name": "stdout",
     "output_type": "stream",
     "text": [
      "Valid Password\n"
     ]
    }
   ],
   "source": [
    "def Alphanumeric_Password_Check():\n",
    "    Password = input(\"Enter Your Password\")\n",
    "    if len(Password) !=10:\n",
    "        return \"Invalid Password\"\n",
    "\n",
    "    uppercase = 0\n",
    "    for char in Password:\n",
    "        if char.isupper():\n",
    "            uppercase +=1\n",
    "    if uppercase <2:\n",
    "        return \"Invalid Password\"\n",
    "\n",
    "    lowercase = 0\n",
    "    for char in Password:\n",
    "        if char.islower():\n",
    "            lowercase += 1\n",
    "    if lowercase<2:\n",
    "        return \"Invalid Password\"\n",
    "\n",
    "    number = any(char.isdigit() for char in Password)\n",
    "    if not number:\n",
    "        return \"Invalid Password\"\n",
    "\n",
    "\n",
    "    special_character = 0\n",
    "    for char in Password:\n",
    "        if not char.isalnum():\n",
    "            special_character += 1\n",
    "    if special_character <3:\n",
    "        return \"Invalid Password\"\n",
    "\n",
    "    return \"Valid Password\"\n",
    "\n",
    "print(Alphanumeric_Password_Check())\n",
    "    "
   ]
  },
  {
   "cell_type": "markdown",
   "id": "c43db521-9d34-4d11-86df-aac64bad7add",
   "metadata": {},
   "source": [
    "### Q2. Solve the below-given questions using at least one of the following:\n",
    "### 1. Lambda function\n",
    "### 2. Filter function\n",
    "### 3. Map function\n",
    "### 4. List Comprehension"
   ]
  },
  {
   "cell_type": "code",
   "execution_count": 8,
   "id": "f261ce17-5bef-4d28-a073-1857ee3622d1",
   "metadata": {},
   "outputs": [
    {
     "name": "stdout",
     "output_type": "stream",
     "text": [
      "True\n"
     ]
    }
   ],
   "source": [
    "# Check if the string starts with a particular letter Using Lambada function\n",
    "string = \"HELLO Pw\"\n",
    "Particular_letter = \"H\"\n",
    "starter_letter = (lambda s, letter: s.startswith(letter))(string, particular_letter)\n",
    "print(starter_letter)\n",
    "\n",
    "\n"
   ]
  },
  {
   "cell_type": "code",
   "execution_count": 9,
   "id": "f10fae99-1cc2-453e-b713-e3bab36186c3",
   "metadata": {},
   "outputs": [
    {
     "name": "stdout",
     "output_type": "stream",
     "text": [
      "False\n"
     ]
    }
   ],
   "source": [
    "# Check if the string is numeric\n",
    "string = \"HELLO Pw\"\n",
    "Checking_Numeric = (lambda s: s.isdigit())(string)\n",
    "print(Checking_Numeric)"
   ]
  },
  {
   "cell_type": "code",
   "execution_count": 14,
   "id": "f4990c1c-a8ec-46db-b047-fabd6176546e",
   "metadata": {},
   "outputs": [
    {
     "name": "stdout",
     "output_type": "stream",
     "text": [
      "[('orange', 80), ('mango', 99), ('grapes', 1000)]\n"
     ]
    }
   ],
   "source": [
    "#Sort a list of tuples having fruit names and their quantity. [(\"mango\",99),(\"orange\",80), (\"grapes\", 1000)\n",
    "Fruit_name = [(\"mango\",99),(\"orange\",80), (\"grapes\", 1000)]\n",
    "sorted_list = sorted(Fruit_name, key=lambda x:x[1])\n",
    "print(sorted_list)"
   ]
  },
  {
   "cell_type": "code",
   "execution_count": 15,
   "id": "35610b3f-457d-4d96-9877-5d6c0d630078",
   "metadata": {},
   "outputs": [
    {
     "data": {
      "text/plain": [
       "[1, 4, 9, 16, 25, 36, 49, 64, 81, 100]"
      ]
     },
     "execution_count": 15,
     "metadata": {},
     "output_type": "execute_result"
    }
   ],
   "source": [
    "#Find the squares of numbers from 1 to 10\n",
    "# [1,2,3,4,5,6,7,8,9,10]\n",
    "def find_square():\n",
    "    l = [1,2,3,4,5,6,7,8,9,10]\n",
    "    r = list(map(lambda x: x**2, l))\n",
    "    return r\n",
    "    \n",
    "find_square()"
   ]
  },
  {
   "cell_type": "code",
   "execution_count": 16,
   "id": "df005a1e-719f-49dc-afc2-c12cbb274d2e",
   "metadata": {},
   "outputs": [
    {
     "data": {
      "text/plain": [
       "[1, 8, 27, 64, 125, 216, 343, 512, 729, 1000]"
      ]
     },
     "execution_count": 16,
     "metadata": {},
     "output_type": "execute_result"
    }
   ],
   "source": [
    "def find_cube():\n",
    "    l = [1,2,3,4,5,6,7,8,9,10]\n",
    "    r = list(map(lambda x: x*x*x, l))\n",
    "    return r\n",
    "    \n",
    "find_cube()"
   ]
  },
  {
   "cell_type": "code",
   "execution_count": 24,
   "id": "d0f3f2ae-df23-4d86-91dc-f86942b7ae52",
   "metadata": {},
   "outputs": [
    {
     "name": "stdin",
     "output_type": "stream",
     "text": [
      "Enter a Number :   4\n"
     ]
    },
    {
     "name": "stdout",
     "output_type": "stream",
     "text": [
      "['Even Number']\n"
     ]
    }
   ],
   "source": [
    "#Check if a given number is even\n",
    "Even_Numberinput = int(input(\"Enter a Number :  \"))\n",
    "Even_NumberCheck = [\"Even Number\" for i in [Even_Numberinput] if i % 2 == 0]\n",
    "print(Even_NumberCheck)"
   ]
  },
  {
   "cell_type": "code",
   "execution_count": 25,
   "id": "081ffb7c-e60c-49dc-a62d-b1d86c052623",
   "metadata": {},
   "outputs": [
    {
     "name": "stdout",
     "output_type": "stream",
     "text": [
      "[1, 3, 5, 7, 9]\n"
     ]
    }
   ],
   "source": [
    "'''\n",
    "Filter odd numbers from the given list.\n",
    "[1,2,3,4,5,6,7,8,9,10]\n",
    "'''\n",
    "lst = [1,2,3,4,5,6,7,8,9,10]\n",
    "odd_number = list(filter(lambda x: x%2==1, lst))\n",
    "print(odd_number)"
   ]
  },
  {
   "cell_type": "code",
   "execution_count": null,
   "id": "b204ae66-9b70-4bd3-bc4f-fb3d8b608dad",
   "metadata": {},
   "outputs": [],
   "source": [
    "\"\"\"\n",
    "Sort a list of integers into positive and negative integers lists.\n",
    "[1,2,3,4,5,6,-1,-2,-3,-4,-5,0]\n",
    "\"\"\"\n",
    "lst = [1,2,3,4,5,6,-1,-2,-3,-4,-5,0]\n",
    "positive = "
   ]
  }
 ],
 "metadata": {
  "kernelspec": {
   "display_name": "Python 3 (ipykernel)",
   "language": "python",
   "name": "python3"
  },
  "language_info": {
   "codemirror_mode": {
    "name": "ipython",
    "version": 3
   },
   "file_extension": ".py",
   "mimetype": "text/x-python",
   "name": "python",
   "nbconvert_exporter": "python",
   "pygments_lexer": "ipython3",
   "version": "3.10.6"
  }
 },
 "nbformat": 4,
 "nbformat_minor": 5
}
